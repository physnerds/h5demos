{
 "cells": [
  {
   "cell_type": "code",
   "execution_count": 23,
   "id": "4949dd18",
   "metadata": {
    "collapsed": true
   },
   "outputs": [
    {
     "name": "stderr",
     "output_type": "stream",
     "text": [
      "Warning in <TInterpreter::ReadRootmapFile>: class  PlotUtils::BeamAngleXUniverse<PlotUtils::DefaultCVUniverse> found in libG__PlotUtilsDict.so  is already in libplotutils.dylib \n",
      "Warning in <TInterpreter::ReadRootmapFile>: class  PlotUtils::BeamAngleYUniverse<PlotUtils::DefaultCVUniverse> found in libG__PlotUtilsDict.so  is already in libplotutils.dylib \n",
      "Warning in <TInterpreter::ReadRootmapFile>: class  PlotUtils::ChainWrapper found in libG__PlotUtilsDict.so  is already in libplotutils.dylib \n",
      "Warning in <TInterpreter::ReadRootmapFile>: class  PlotUtils::DefaultCVUniverse found in libG__PlotUtilsDict.so  is already in libplotutils.dylib \n",
      "Warning in <TInterpreter::ReadRootmapFile>: class  PlotUtils::FluxUniverse<PlotUtils::DefaultCVUniverse> found in libG__PlotUtilsDict.so  is already in libplotutils.dylib \n",
      "Warning in <TInterpreter::ReadRootmapFile>: class  PlotUtils::GenieUniverse<PlotUtils::DefaultCVUniverse> found in libG__PlotUtilsDict.so  is already in libplotutils.dylib \n",
      "Warning in <TInterpreter::ReadRootmapFile>: class  PlotUtils::GridCanvas found in libG__PlotUtilsDict.so  is already in libplotutils.dylib \n",
      "Warning in <TInterpreter::ReadRootmapFile>: class  PlotUtils::LowQ2PionUniverse<PlotUtils::DefaultCVUniverse> found in libG__PlotUtilsDict.so  is already in libplotutils.dylib \n",
      "Warning in <TInterpreter::ReadRootmapFile>: class  PlotUtils::MinosEfficiencyUniverse<PlotUtils::DefaultCVUniverse> found in libG__PlotUtilsDict.so  is already in libplotutils.dylib \n",
      "Warning in <TInterpreter::ReadRootmapFile>: class  PlotUtils::MnvH1D found in libG__PlotUtilsDict.so  is already in libplotutils.dylib \n",
      "Warning in <TInterpreter::ReadRootmapFile>: class  PlotUtils::MnvH2D found in libG__PlotUtilsDict.so  is already in libplotutils.dylib \n",
      "Warning in <TInterpreter::ReadRootmapFile>: class  PlotUtils::MnvH3D found in libG__PlotUtilsDict.so  is already in libplotutils.dylib \n",
      "Warning in <TInterpreter::ReadRootmapFile>: class  PlotUtils::MnvLatErrorBand found in libG__PlotUtilsDict.so  is already in libplotutils.dylib \n",
      "Warning in <TInterpreter::ReadRootmapFile>: class  PlotUtils::MnvLatErrorBand2D found in libG__PlotUtilsDict.so  is already in libplotutils.dylib \n",
      "Warning in <TInterpreter::ReadRootmapFile>: class  PlotUtils::MnvLatErrorBand3D found in libG__PlotUtilsDict.so  is already in libplotutils.dylib \n",
      "Warning in <TInterpreter::ReadRootmapFile>: class  PlotUtils::MnvVertErrorBand found in libG__PlotUtilsDict.so  is already in libplotutils.dylib \n",
      "Warning in <TInterpreter::ReadRootmapFile>: class  PlotUtils::MnvVertErrorBand2D found in libG__PlotUtilsDict.so  is already in libplotutils.dylib \n",
      "Warning in <TInterpreter::ReadRootmapFile>: class  PlotUtils::MnvVertErrorBand3D found in libG__PlotUtilsDict.so  is already in libplotutils.dylib \n",
      "Warning in <TInterpreter::ReadRootmapFile>: class  PlotUtils::MuonResolutionUniverse<PlotUtils::DefaultCVUniverse> found in libG__PlotUtilsDict.so  is already in libplotutils.dylib \n",
      "Warning in <TInterpreter::ReadRootmapFile>: class  PlotUtils::MuonUniverseMinerva<PlotUtils::DefaultCVUniverse> found in libG__PlotUtilsDict.so  is already in libplotutils.dylib \n",
      "Warning in <TInterpreter::ReadRootmapFile>: class  PlotUtils::MuonUniverseMinos<PlotUtils::DefaultCVUniverse> found in libG__PlotUtilsDict.so  is already in libplotutils.dylib \n",
      "Warning in <TInterpreter::ReadRootmapFile>: class  PlotUtils::RPAUniverse<PlotUtils::DefaultCVUniverse> found in libG__PlotUtilsDict.so  is already in libplotutils.dylib \n",
      "Warning in <TInterpreter::ReadRootmapFile>: class  PlotUtils::ResponseUniverse<PlotUtils::DefaultCVUniverse> found in libG__PlotUtilsDict.so  is already in libplotutils.dylib \n",
      "Warning in <TInterpreter::ReadRootmapFile>: class  PlotUtils::TreeWrapper found in libG__PlotUtilsDict.so  is already in libplotutils.dylib \n",
      "Warning in <TInterpreter::ReadRootmapFile>: class  PlotUtils::Universe2p2h<PlotUtils::DefaultCVUniverse> found in libG__PlotUtilsDict.so  is already in libplotutils.dylib \n"
     ]
    },
    {
     "name": "stdout",
     "output_type": "stream",
     "text": [
      "tried to load libPlotutils.so\n",
      "Welcome to JupyROOT 6.27/01\n",
      "/Users/abashyal/Argonne_Stuff/trace_io\n",
      "Total number of readonly acceses  483\n",
      "Total number of read-write access  1\n",
      "Total number of files created  1\n",
      "min and max transfer rate for readonly access  6e-06 0.060947\n",
      "min and max transfer rate for read-write access  0.000288 0.000288\n",
      "{3, 4, 5}\n"
     ]
    },
    {
     "data": {
      "text/plain": [
       "(array([134.,  52.,  50., ...,   0.,   0.,   1.]),\n",
       " array([6.00000000e-06, 3.44107226e-05, 6.28214452e-05, ...,\n",
       "        6.08901786e-02, 6.09185893e-02, 6.09470000e-02]),\n",
       " <BarContainer object of 2145 artists>)"
      ]
     },
     "execution_count": 23,
     "metadata": {},
     "output_type": "execute_result"
    },
    {
     "data": {
      "image/png": "[encoded data removed]",
      "text/plain": [
       "<Figure size 432x288 with 1 Axes>"
      ]
     },
     "metadata": {
      "needs_background": "light"
     },
     "output_type": "display_data"
    }
   ],
   "source": [
    "import os,sys\n",
    "import matplotlib.pyplot as plt\n",
    "import ROOT\n",
    "\n",
    "curr_dir = os.getcwd()\n",
    "print(curr_dir)\n",
    "_file = \"dump_trace_no_token_w_timestamp.txt\"\n",
    "_hdf5_file = \"blaa.h5\"\n",
    "\n",
    "f = open(_file,'r')\n",
    "\n",
    "line_counter=0\n",
    "index_file_open=0\n",
    "index_file_close=0\n",
    "file_open_index = -999\n",
    "#this number 3 comes from : open(\"blaa.h5\", O_RDWR|O_CREAT, 0644)   = 3\n",
    "#different ways files/objects are open:\n",
    "rd_only = \"O_RDONLY\" #READONLY\n",
    "readwrite = \"O_RDWR\" #READWRITE\n",
    "create = \"O_CREAT\"   #CREATE\n",
    "\n",
    "#Get the index numbers for different processes\n",
    "#THIS FILE ALSO HAS THE TIME STAMP WHICH MAKES THINGS INTERESTING....WE CAN LOOK AT THE I/O RATE FOR EACH SYS CALL\n",
    "#PROCESSES\n",
    "\"\"\"\"\n",
    "for line in f:\n",
    "    if _hdf5_file in line:\n",
    "        if \"open\" in line:\n",
    "            #print(line_counter,\"\\n\",line)\n",
    "            index_file_open = line_counter\n",
    "            new_line = line.split(\"=\")\n",
    "            print(new_line[0],\" \",new_line[1])\n",
    "            num = new_line[1].replace(\" \",\"\")\n",
    "            num = num.replace(\"\\n\",\"\")\n",
    "            \n",
    "\"\"\"\n",
    "\n",
    "#list to save the system call indexes when opening files\n",
    "list_open_lines={\"read-only\":[],\n",
    "                 \"read-write\":[],\n",
    "                 \"create\":[]\n",
    "}\n",
    "#list to save the I/O rate when doing the I/O\n",
    "list_open_t_rate={\"read-only\":[],\n",
    "                 \"read-write\":[],\n",
    "                 \"create\":[]\n",
    "}\n",
    "f.seek(0)\n",
    "for line in f:\n",
    "    if \"open\" in line:\n",
    "        new_line = line.split(\"=\")\n",
    "        num = new_line[1].replace(\" \",\"\")\n",
    "        num = num.replace(\"\\n\",\"\")\n",
    "        if \"Nosuchfile\" in num:\n",
    "            continue\n",
    "        #print(new_line[1])\n",
    "        #need to separate into int_num and the I/O rate\n",
    "        if \"<\" not in num and \">\" not in num:\n",
    "            continue\n",
    "        temp_line = new_line[1].replace(\"\\n\",\"\")\n",
    "        temp_line = temp_line.replace(\" \",\"\")\n",
    "\n",
    "        list_temp_line = list(temp_line)\n",
    "        s_index = list_temp_line.index(\"<\")\n",
    "        s_end = list_temp_line.index(\">\")\n",
    "        t_rate = \"\" #we want to save the transfer rate somewhere....\n",
    "        for i in range(s_index+1,s_end):\n",
    "            t_rate += list_temp_line[i]\n",
    "        proc_index = list_temp_line[s_index-1]\n",
    "        \n",
    "        try:\n",
    "            int_num = int(proc_index) #we just want to consider the instances where opening something was successful\n",
    "            f_t_rate = float(t_rate)\n",
    "        except:\n",
    "            continue\n",
    "        if rd_only in line:\n",
    "            list_open_lines[\"read-only\"].append(int_num)\n",
    "            list_open_t_rate[\"read-only\"].append(f_t_rate)\n",
    "        if readwrite in line:\n",
    "            list_open_lines[\"read-write\"].append(int_num)\n",
    "            list_open_t_rate[\"read-write\"].append(f_t_rate)\n",
    "        if create in line:\n",
    "            list_open_lines[\"create\"].append(int_num)\n",
    "            list_open_t_rate[\"create\"].append(f_t_rate)\n",
    "            \n",
    "            \n",
    "\n",
    "\n",
    "#now the categories of different things....\n",
    "print(\"Total number of readonly acceses \",len(list_open_lines[\"read-only\"]))\n",
    "print(\"Total number of read-write access \",len(list_open_lines[\"read-write\"]))\n",
    "print(\"Total number of files created \",len(list_open_lines[\"create\"]))\n",
    "\n",
    "print(\"min and max transfer rate for readonly access \",min(list_open_t_rate[\"read-only\"]),max(list_open_t_rate[\"read-only\"]))\n",
    "print(\"min and max transfer rate for read-write access \",min(list_open_t_rate[\"read-write\"]),max(list_open_t_rate[\"read-write\"]))\n",
    "\n",
    "#NOW TO CATEGORIZE THE DIFFERENT KINDS OF ACCESSES\n",
    "set_readonly = set(list_open_lines[\"read-only\"])\n",
    "print(set_readonly)\n",
    "\n",
    "\n",
    "#I think we can see the distribution of the transfer rate for the read-only\n",
    "\n",
    "\n",
    "fig, axs = plt.subplots(1, sharey=True, tight_layout=True)\n",
    "plt.yscale(\"log\")\n",
    "plt.xscale(\"log\")\n",
    "axs.set_xlabel(\"Time taken (seconds)\")\n",
    "axs.set_ylabel(\"Number of Reads\")\n",
    "axs.hist(list_open_t_rate[\"read-only\"], bins='auto')\n",
    "\n"
   ]
  },
  {
   "cell_type": "code",
   "execution_count": 24,
   "id": "7341f0a1",
   "metadata": {},
   "outputs": [
    {
     "name": "stdout",
     "output_type": "stream",
     "text": [
      "{3: 78, 4: 244, 5: 161}\n",
      "78\n"
     ]
    },
    {
     "data": {
      "text/plain": [
       "(array([45.,  9., 15.,  3.,  0.,  0.,  1.,  0.,  0.,  1.,  0.,  0.,  2.,\n",
       "         0.,  0.,  0.,  0.,  0.,  0.,  0.,  1.,  0.,  0.,  0.,  0.,  0.,\n",
       "         0.,  0.,  0.,  0.,  0.,  0.,  0.,  0.,  0.,  1.]),\n",
       " array([7.00000000e-06, 7.98333333e-05, 1.52666667e-04, 2.25500000e-04,\n",
       "        2.98333333e-04, 3.71166667e-04, 4.44000000e-04, 5.16833333e-04,\n",
       "        5.89666667e-04, 6.62500000e-04, 7.35333333e-04, 8.08166667e-04,\n",
       "        8.81000000e-04, 9.53833333e-04, 1.02666667e-03, 1.09950000e-03,\n",
       "        1.17233333e-03, 1.24516667e-03, 1.31800000e-03, 1.39083333e-03,\n",
       "        1.46366667e-03, 1.53650000e-03, 1.60933333e-03, 1.68216667e-03,\n",
       "        1.75500000e-03, 1.82783333e-03, 1.90066667e-03, 1.97350000e-03,\n",
       "        2.04633333e-03, 2.11916667e-03, 2.19200000e-03, 2.26483333e-03,\n",
       "        2.33766667e-03, 2.41050000e-03, 2.48333333e-03, 2.55616667e-03,\n",
       "        2.62900000e-03]),\n",
       " <BarContainer object of 36 artists>)"
      ]
     },
     "execution_count": 24,
     "metadata": {},
     "output_type": "execute_result"
    },
    {
     "data": {
      "image/png": "[encoded data removed]",
      "text/plain": [
       "<Figure size 432x288 with 1 Axes>"
      ]
     },
     "metadata": {
      "needs_background": "light"
     },
     "output_type": "display_data"
    }
   ],
   "source": [
    "#now count how many of the readonly access were done:\n",
    "dict_open_lines = {i:list_open_lines[\"read-only\"].count(i) for i in list_open_lines[\"read-only\"]}\n",
    "print(dict_open_lines)\n",
    "\n",
    "#lets look at the time taken to read the HDF objects only\n",
    "rd_hdf_obj = []\n",
    "temp_list = list_open_lines[\"read-only\"]\n",
    "\n",
    "for i in range(0,len(temp_list)):\n",
    "    if temp_list[i]==3:\n",
    "        rd_hdf_obj.append(list_open_t_rate[\"read-only\"][i])\n",
    "        \n",
    "print(len(rd_hdf_obj))\n",
    "\n",
    "fig, axs = plt.subplots(1, sharey=True, tight_layout=True)\n",
    "#plt.yscale(\"log\")\n",
    "plt.xscale(\"log\")\n",
    "axs.set_xlabel(\"Time taken (seconds)\")\n",
    "axs.set_ylabel(\"Number of Reads\")\n",
    "axs.hist(rd_hdf_obj, bins='auto')"
   ]
  },
  {
   "cell_type": "code",
   "execution_count": 16,
   "id": "4464d2f5",
   "metadata": {},
   "outputs": [
    {
     "data": {
      "text/plain": [
       "'\"\\neventinfo                Dataset {3}\\nphi                      Dataset {8000/Inf}\\nphi_info                 Dataset {8}\\nphi_offset               Dataset {1000/Inf}\\n'"
      ]
     },
     "execution_count": 16,
     "metadata": {},
     "output_type": "execute_result"
    }
   ],
   "source": [
    "#ALL OF THESE ARE SYSTEM CALLS ACCESSING THE INTERNAL LIBRARIES/ROOT-LIBRARIES ETC.\n",
    "# 3 is for the hdf5 file\n",
    "#4 and 5 are for the system calls\n",
    "\n",
    "\"\"\"\"\n",
    "eventinfo                Dataset {3}\n",
    "phi                      Dataset {8000/Inf}\n",
    "phi_info                 Dataset {8}\n",
    "phi_offset               Dataset {1000/Inf}\n",
    "\"\"\""
   ]
  },
  {
   "cell_type": "code",
   "execution_count": 26,
   "id": "db25dd6a",
   "metadata": {},
   "outputs": [
    {
     "name": "stdout",
     "output_type": "stream",
     "text": [
      "READWRITE: [3]  \n",
      "  CREATE:  [3]\n",
      "TIME TAKEN TO CREATE FILE  [0.000288]\n"
     ]
    }
   ],
   "source": [
    "print(\"READWRITE:\",list_open_lines[\"read-write\"],\" \\n \",\"CREATE: \",list_open_lines[\"create\"])\n",
    "print(\"TIME TAKEN TO CREATE FILE \",list_open_t_rate[\"create\"])"
   ]
  },
  {
   "cell_type": "code",
   "execution_count": 91,
   "id": "628065e8",
   "metadata": {},
   "outputs": [
    {
     "name": "stdout",
     "output_type": "stream",
     "text": [
      "INSTANCES OF WRITE  4062 4062\n",
      "{544, 96, 4, 8, 40, 328, 12, 80, 272, 2096, 120}\n",
      "{8: 2002, 12: 1, 4: 2000, 40: 3, 328: 3, 544: 3, 120: 3, 80: 2, 272: 4, 2096: 39, 96: 2}\n",
      "1e-05 2.1e-05\n"
     ]
    },
    {
     "data": {
      "text/plain": [
       "(array([2.001e+03, 0.000e+00, 0.000e+00, 0.000e+00, 1.000e+00]),\n",
       " array([1.000e-05, 7.080e-05, 1.316e-04, 1.924e-04, 2.532e-04, 3.140e-04]),\n",
       " <BarContainer object of 5 artists>)"
      ]
     },
     "execution_count": 91,
     "metadata": {},
     "output_type": "execute_result"
    },
    {
     "data": {
      "image/png": "[encoded data removed]",
      "text/plain": [
       "<Figure size 432x288 with 1 Axes>"
      ]
     },
     "metadata": {
      "needs_background": "light"
     },
     "output_type": "display_data"
    },
    {
     "data": {
      "image/png": "[encoded data removed]",
      "text/plain": [
       "<Figure size 432x288 with 1 Axes>"
      ]
     },
     "metadata": {
      "needs_background": "light"
     },
     "output_type": "display_data"
    }
   ],
   "source": [
    "#now need to find out how many times the write function is called\n",
    "f.seek(0)\n",
    "write_counter=0\n",
    "list_bytes_write=[]\n",
    "list_write_proc=[]\n",
    "for line in f:\n",
    "    if \"write(\" in line:\n",
    "        if \"3,\" in line:\n",
    "            write_counter+=1\n",
    "            #I now want to categorize in terms of bytes written. \n",
    "            new_line = line.split(\"=\")\n",
    "            #print(new_line[0],\" AND \",new_line[1])\n",
    "            val = len(new_line)-1\n",
    "            num = new_line[val].replace(\" \",\"\")\n",
    "            num = num.replace(\"\\n\",\"\")\n",
    "            if \"<\" not in num and \">\" not in num:\n",
    "                continue\n",
    "            temp_line = new_line[val].replace(\"\\n\",\"\")\n",
    "            temp_line = temp_line.replace(\" \",\"\")\n",
    "            \n",
    "            list_temp_line = list(temp_line)\n",
    "            s_index = list_temp_line.index(\"<\")\n",
    "            e_index = list_temp_line.index(\">\")\n",
    "            #print(list_temp_line[s_index-1])\n",
    "            bytes_written = \"\"\n",
    "            for i in range(0,s_index):\n",
    "                bytes_written += list_temp_line[i]\n",
    "            #print(\"bytes write \",bytes_written,len(list_temp_line))\n",
    "            t_rate = \"\"\n",
    "            for i in range(s_index+1,e_index):\n",
    "                t_rate += list_temp_line[i]\n",
    "            try:\n",
    "                int_bytes = int(bytes_written)\n",
    "                f_w_rate = float(t_rate)\n",
    "            except:\n",
    "                #print(new_line[1],line)\n",
    "                continue\n",
    "            list_bytes_write.append(int_bytes)\n",
    "            list_write_proc.append(f_w_rate)\n",
    "            \n",
    "            \n",
    "print(\"INSTANCES OF WRITE \",write_counter,len(list_bytes_write))\n",
    "\n",
    "#first find the different process indices\n",
    "set_write = set(list_bytes_write)\n",
    "print(set_write)\n",
    "#count how many times each of these bytes are written:\n",
    "dict_bytes_write = {i:list_bytes_write.count(i) for i in list_bytes_write}\n",
    "print(dict_bytes_write)\n",
    "\n",
    "#first we will put together the information for the 4 and 8 bytes write.\n",
    "dict_list_bytes = {\"4\":[],\n",
    "                   \"8\":[]\n",
    "}\n",
    "\n",
    "for i in range(0,len(list_bytes_write)):\n",
    "    if list_bytes_write[i]==4:\n",
    "        dict_list_bytes[\"4\"].append(list_write_proc[i])\n",
    "    if list_bytes_write[i]==8:\n",
    "        dict_list_bytes[\"8\"].append(list_write_proc[i])\n",
    "        \n",
    "#print(dict_list_bytes[\"8\"])\n",
    "print(min(dict_list_bytes[\"4\"]),max(dict_list_bytes[\"4\"]))\n",
    "fig, axs = plt.subplots(1, sharey=True, tight_layout=True)\n",
    "plt.yscale(\"log\")\n",
    "plt.ticklabel_format(axis=\"x\", style=\"sci\", scilimits=(0,0))\n",
    "#plt.xscale(\"log\")\n",
    "axs.set_xlabel(\"Time taken (seconds)\")\n",
    "axs.set_ylabel(\"Number of Writes (4 bytes)\")\n",
    "axs.hist(dict_list_bytes[\"4\"], bins=5)\n",
    "\n",
    "\n",
    "\n",
    "fig, axs = plt.subplots(1, sharey=True, tight_layout=True)\n",
    "plt.yscale(\"log\")\n",
    "plt.ticklabel_format(axis=\"x\", style=\"sci\", scilimits=(0,0))\n",
    "#plt.xscale(\"log\")\n",
    "axs.set_xlabel(\"Time taken (seconds)\")\n",
    "axs.set_ylabel(\"Number of Writes (8 bytes)\")\n",
    "axs.hist(dict_list_bytes[\"8\"], bins=5)"
   ]
  },
  {
   "cell_type": "code",
   "execution_count": 11,
   "id": "eafe68e2",
   "metadata": {
    "collapsed": true
   },
   "outputs": [
    {
     "data": {
      "text/plain": [
       "'\\nwrite(3, \"\\x00\\x00\\x00\\x00\\x00\\x00\\x00\\x00\", 8)         = 8\\nwrite(3, \"\\x00\\x00\\x00 \\x1b¤\\x8a?\", 8)      = 8\\n\\nThe dump shows that the write operation is happening 2 times. Once a buffer of 0 is written and the second time something \\nactually is being written. Why is an empty buffer being written each time.\\nThe additional 2 is for the _info data-set which still stores the character\\n\\nByte size 4 is written for the offset_info which are saved as integers. Again the system calls the write function twice.\\n\\n\\n2096 bytes are written 39 times:\\nwrite(3, \"TREE\\x01\\x009\\x00\\x88O\\x01\\x00\\x00\\x00\\x00\\x00Hp\\x01\\x00\\x00\\x00\\x00\\x00\\x08\\x00\\x00\\x00\\x00\\x00\\x00\\x00\"..., 2096) = 2096\\nwrite(3, \"TREE\\x01\\x009\\x00¸W\\x01\\x00\\x00\\x00\\x00\\x00xx\\x01\\x00\\x00\\x00\\x00\\x00\\x04\\x00\\x00\\x00\\x00\\x00\\x00\\x00\"..., 2096) = 2096\\n\\n544 bytes are written 3 times:\\nwrite(3, \"TREE\\x00\\x00\\x01\\x00ÿÿÿÿÿÿÿÿÿÿÿÿÿÿÿÿ\\x00\\x00\\x00\\x00\\x00\\x00\\x00\\x00\"..., 544) = 544\\nwrite(3, \"TREE\\x00\\x00\\x01\\x00ÿÿÿÿÿÿÿÿÿÿÿÿÿÿÿÿ\\x00\\x00\\x00\\x00\\x00\\x00\\x00\\x00\"..., 544) = 544\\nwrite(3, \"TREE\\x00\\x00\\x01\\x00ÿÿÿÿÿÿÿÿÿÿÿÿÿÿÿÿ\\x00\\x00\\x00\\x00\\x00\\x00\\x00\\x00\"..., 544) = 544\\n\\n328 bytes are written 3 times.\\nwrite(3, \"SNOD\\x01\\x00\\x01\\x00\\x08\\x00\\x00\\x00\\x00\\x00\\x00\\x00 \\x03\\x00\\x00\\x00\\x00\\x00\\x00\\x01\\x00\\x00\\x00\\x00\\x00\\x00\\x00\"..., 328) = 328\\nwrite(3, \"SNOD\\x01\\x00\\x01\\x00\\x08\\x00\\x00\\x00\\x00\\x00\\x00\\x00x\\x07\\x00\\x00\\x00\\x00\\x00\\x00\\x01\\x00\\x00\\x00\\x00\\x00\\x00\\x00\"..., 328) = 328\\n\\n120 bytes are written 3 times:\\nwrite(3, \"HEAP\\x00\\x00\\x00\\x00X\\x00\\x00\\x00\\x00\\x00\\x00\\x00\\x10\\x00\\x00\\x00\\x00\\x00\\x00\\x00È\\x02\\x00\\x00\\x00\\x00\\x00\\x00\"..., 120) = 120\\nwrite(3, \"HEAP\\x00\\x00\\x00\\x00X\\x00\\x00\\x00\\x00\\x00\\x00\\x00\\x10\\x00\\x00\\x00\\x00\\x00\\x00\\x00\\x88\\x05\\x00\\x00\\x00\\x00\\x00\\x00\"..., 120) = 120\\nwrite(3, \"HEAP\\x00\\x00\\x00\\x00X\\x00\\x00\\x00\\x00\\x00\\x00\\x00@\\x00\\x00\\x00\\x00\\x00\\x00\\x00à\\t\\x00\\x00\\x00\\x00\\x00\\x00\"..., 120) = 120\\n\\n\\n'"
      ]
     },
     "execution_count": 11,
     "metadata": {},
     "output_type": "execute_result"
    }
   ],
   "source": [
    "#Note that we were reading 1000 events from a single branch...so why 2002:\n",
    "\"\"\"\n",
    "write(3, \"\\0\\0\\0\\0\\0\\0\\0\\0\", 8)         = 8\n",
    "write(3, \"\\0\\0\\0 \\33\\244\\212?\", 8)      = 8\n",
    "\n",
    "The dump shows that the write operation is happening 2 times. Once a buffer of 0 is written and the second time something \n",
    "actually is being written. Why is an empty buffer being written each time.\n",
    "The additional 2 is for the _info data-set which still stores the character\n",
    "\n",
    "Byte size 4 is written for the offset_info which are saved as integers. Again the system calls the write function twice.\n",
    "\n",
    "\n",
    "2096 bytes are written 39 times:\n",
    "write(3, \"TREE\\1\\09\\0\\210O\\1\\0\\0\\0\\0\\0Hp\\1\\0\\0\\0\\0\\0\\10\\0\\0\\0\\0\\0\\0\\0\"..., 2096) = 2096\n",
    "write(3, \"TREE\\1\\09\\0\\270W\\1\\0\\0\\0\\0\\0xx\\1\\0\\0\\0\\0\\0\\4\\0\\0\\0\\0\\0\\0\\0\"..., 2096) = 2096\n",
    "\n",
    "544 bytes are written 3 times:\n",
    "write(3, \"TREE\\0\\0\\1\\0\\377\\377\\377\\377\\377\\377\\377\\377\\377\\377\\377\\377\\377\\377\\377\\377\\0\\0\\0\\0\\0\\0\\0\\0\"..., 544) = 544\n",
    "write(3, \"TREE\\0\\0\\1\\0\\377\\377\\377\\377\\377\\377\\377\\377\\377\\377\\377\\377\\377\\377\\377\\377\\0\\0\\0\\0\\0\\0\\0\\0\"..., 544) = 544\n",
    "write(3, \"TREE\\0\\0\\1\\0\\377\\377\\377\\377\\377\\377\\377\\377\\377\\377\\377\\377\\377\\377\\377\\377\\0\\0\\0\\0\\0\\0\\0\\0\"..., 544) = 544\n",
    "\n",
    "328 bytes are written 3 times.\n",
    "write(3, \"SNOD\\1\\0\\1\\0\\10\\0\\0\\0\\0\\0\\0\\0 \\3\\0\\0\\0\\0\\0\\0\\1\\0\\0\\0\\0\\0\\0\\0\"..., 328) = 328\n",
    "write(3, \"SNOD\\1\\0\\1\\0\\10\\0\\0\\0\\0\\0\\0\\0x\\7\\0\\0\\0\\0\\0\\0\\1\\0\\0\\0\\0\\0\\0\\0\"..., 328) = 328\n",
    "\n",
    "120 bytes are written 3 times:\n",
    "write(3, \"HEAP\\0\\0\\0\\0X\\0\\0\\0\\0\\0\\0\\0\\20\\0\\0\\0\\0\\0\\0\\0\\310\\2\\0\\0\\0\\0\\0\\0\"..., 120) = 120\n",
    "write(3, \"HEAP\\0\\0\\0\\0X\\0\\0\\0\\0\\0\\0\\0\\20\\0\\0\\0\\0\\0\\0\\0\\210\\5\\0\\0\\0\\0\\0\\0\"..., 120) = 120\n",
    "write(3, \"HEAP\\0\\0\\0\\0X\\0\\0\\0\\0\\0\\0\\0@\\0\\0\\0\\0\\0\\0\\0\\340\\t\\0\\0\\0\\0\\0\\0\"..., 120) = 120\n",
    "\n",
    "\n",
    "\"\"\"\n"
   ]
  }
 ],
 "metadata": {
  "kernelspec": {
   "display_name": "Python 3 (ipykernel)",
   "language": "python",
   "name": "python3"
  },
  "language_info": {
   "codemirror_mode": {
    "name": "ipython",
    "version": 3
   },
   "file_extension": ".py",
   "mimetype": "text/x-python",
   "name": "python",
   "nbconvert_exporter": "python",
   "pygments_lexer": "ipython3",
   "version": "3.8.9"
  }
 },
 "nbformat": 4,
 "nbformat_minor": 5
}
